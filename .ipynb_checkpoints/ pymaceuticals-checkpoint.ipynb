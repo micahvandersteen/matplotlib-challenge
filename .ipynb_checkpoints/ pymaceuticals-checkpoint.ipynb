{
 "cells": [
  {
   "cell_type": "code",
   "execution_count": 215,
   "metadata": {},
   "outputs": [
    {
     "data": {
      "text/plain": [
       "'\\nAuthor:\\nMicah Vandersteen\\n\\nDate: \\n13 January 2020\\n\\nPurpose: \\nThis code is written to analyze the study of tumor carrying mice that are under various treatment regimens.\\n\\nAnalysis: \\nAfter analyzing the data I came up with three observations:\\n1) For mice treated with the drug, Capomulin, there is a strong positive correlation between mouse weight and average\\ntumor volume.\\n2) \\n3)\\n'"
      ]
     },
     "execution_count": 215,
     "metadata": {},
     "output_type": "execute_result"
    }
   ],
   "source": [
    "\"\"\"\n",
    "Author:\n",
    "Micah Vandersteen\n",
    "\n",
    "Date: \n",
    "13 January 2020\n",
    "\n",
    "Purpose: \n",
    "This code is written to analyze the study of tumor carrying mice that are under various treatment regimens.\n",
    "\n",
    "Analysis: \n",
    "After analyzing the data I came up with three observations:\n",
    "1) For mice treated with the drug, Capomulin, there is a strong positive correlation between mouse weight and average\n",
    "tumor volume.\n",
    "2) The top four treatment regimens don't produce any outliers when observing tumor volume.\n",
    "3) Both sexes of mice are represented almost equally, suggesting that results obtained could accurately describe both\n",
    "male and female mice with tumors.\n",
    "\"\"\""
   ]
  },
  {
   "cell_type": "code",
   "execution_count": 216,
   "metadata": {},
   "outputs": [],
   "source": [
    "# IMPORTING DEPENDENCIES\n",
    "import matplotlib.pyplot as plt\n",
    "import pandas as pd\n",
    "import scipy.stats as st\n",
    "import os\n",
    "import numpy as np\n"
   ]
  },
  {
   "cell_type": "code",
   "execution_count": 217,
   "metadata": {},
   "outputs": [],
   "source": [
    "# IDENTIFYING PATH TO THE FILES NEEDED\n",
    "mouse_metadata = os.path.join(\"data\" , \"Mouse_metadata.csv\")\n",
    "study_results = os.path.join(\"data\" , \"Study_results.csv\")"
   ]
  },
  {
   "cell_type": "code",
   "execution_count": 218,
   "metadata": {},
   "outputs": [],
   "source": [
    "# READING IN THE DATA INTO A DATAFRAME USING PANDAS\n",
    "mouse_metadata = pd.read_csv(mouse_metadata)\n",
    "study_results = pd.read_csv(study_results)"
   ]
  },
  {
   "cell_type": "code",
   "execution_count": 219,
   "metadata": {},
   "outputs": [],
   "source": [
    "# Generate a summary statistics table consisting of the mean, median, variance,\n",
    "# standard deviation, and SEM of the tumor volume for each drug regimen.\n",
    "\n",
    "# GETTING MEAN TUMOR VOLUME\n",
    "mean_tumor_volume = study_results[\"Tumor Volume (mm3)\"].mean()\n",
    "\n",
    "# GETTING MEDIAN TUMOR VOLUME\n",
    "median_tumor_volume = np.median(study_results[\"Tumor Volume (mm3)\"])\n",
    "\n",
    "# GETTING VARIANCE OF TUMOR VOLUME\n",
    "variance_tumor_volume = np.var(study_results[\"Tumor Volume (mm3)\"])\n",
    "\n",
    "# GETTING STANDARD DEVIATION OF THE TUMOR VOLUME\n",
    "standard_deviation_tumor_volume = np.std(study_results[\"Tumor Volume (mm3)\"])\n",
    "\n",
    "# GETTING THE STANDARD ERROR OF THE MEAN OF THE TUMOR VOLUME\n",
    "SEM_tumor_volume = st.sem(study_results[\"Tumor Volume (mm3)\"])\n"
   ]
  },
  {
   "cell_type": "code",
   "execution_count": 220,
   "metadata": {},
   "outputs": [],
   "source": [
    "# STORE THE INITIAL SUMMARY STATISTICS IN A DICTIONARY\n",
    "initial_summary_dict = {\n",
    "    \"Mean Tumor Volume\" : mean_tumor_volume,\n",
    "    \"Median Tumor Volume\" : median_tumor_volume,\n",
    "    \"Variance of Tumor Volume\" : variance_tumor_volume,\n",
    "    \"Standard Deviation of Tumor Volume\" : standard_deviation_tumor_volume,\n",
    "    \"Standard Error of Mean of Tumor Volume\" : SEM_tumor_volume\n",
    "}"
   ]
  },
  {
   "cell_type": "code",
   "execution_count": 221,
   "metadata": {},
   "outputs": [
    {
     "data": {
      "text/html": [
       "<div>\n",
       "<style scoped>\n",
       "    .dataframe tbody tr th:only-of-type {\n",
       "        vertical-align: middle;\n",
       "    }\n",
       "\n",
       "    .dataframe tbody tr th {\n",
       "        vertical-align: top;\n",
       "    }\n",
       "\n",
       "    .dataframe thead th {\n",
       "        text-align: right;\n",
       "    }\n",
       "</style>\n",
       "<table border=\"1\" class=\"dataframe\">\n",
       "  <thead>\n",
       "    <tr style=\"text-align: right;\">\n",
       "      <th></th>\n",
       "      <th>Mean Tumor Volume</th>\n",
       "      <th>Median Tumor Volume</th>\n",
       "      <th>Variance of Tumor Volume</th>\n",
       "      <th>Standard Deviation of Tumor Volume</th>\n",
       "      <th>Standard Error of Mean of Tumor Volume</th>\n",
       "    </tr>\n",
       "  </thead>\n",
       "  <tbody>\n",
       "    <tr>\n",
       "      <th>0</th>\n",
       "      <td>50.448381</td>\n",
       "      <td>48.951474</td>\n",
       "      <td>79.07428</td>\n",
       "      <td>8.892372</td>\n",
       "      <td>0.204436</td>\n",
       "    </tr>\n",
       "  </tbody>\n",
       "</table>\n",
       "</div>"
      ],
      "text/plain": [
       "   Mean Tumor Volume  Median Tumor Volume  Variance of Tumor Volume  \\\n",
       "0          50.448381            48.951474                  79.07428   \n",
       "\n",
       "   Standard Deviation of Tumor Volume  Standard Error of Mean of Tumor Volume  \n",
       "0                            8.892372                                0.204436  "
      ]
     },
     "execution_count": 221,
     "metadata": {},
     "output_type": "execute_result"
    }
   ],
   "source": [
    "# CREATING A DATAFRAME USING THE INITIAL SUMMARY DICTIONARY\n",
    "initial_summary_df = pd.DataFrame(initial_summary_dict, index= [0])\n",
    "\n",
    "# SHOWING THE INITIAL RESULTS \n",
    "initial_summary_df"
   ]
  },
  {
   "cell_type": "code",
   "execution_count": 222,
   "metadata": {},
   "outputs": [
    {
     "data": {
      "text/plain": [
       "\"\\nThis next section is meant to generate a bar plot using both Pandas's DataFrame.plot() and\\nMatplotlib's pyplot that shows the number of data points for each treatment regimen.\\n\""
      ]
     },
     "execution_count": 222,
     "metadata": {},
     "output_type": "execute_result"
    }
   ],
   "source": [
    "# ==========================================================================================\n",
    "\"\"\"\n",
    "This next section is meant to generate a bar plot using both Pandas's DataFrame.plot() and\n",
    "Matplotlib's pyplot that shows the number of data points for each treatment regimen.\n",
    "\"\"\"\n",
    "# ==========================================================================================="
   ]
  },
  {
   "cell_type": "code",
   "execution_count": 223,
   "metadata": {},
   "outputs": [
    {
     "name": "stdout",
     "output_type": "stream",
     "text": [
      "Capomulin    230\n",
      "Ramicane     228\n",
      "Ketapril     188\n",
      "Naftisol     186\n",
      "Zoniferol    182\n",
      "Stelasyn     181\n",
      "Placebo      181\n",
      "Ceftamin     178\n",
      "Infubinol    178\n",
      "Propriva     161\n",
      "Name: Drug Regimen, dtype: int64\n"
     ]
    },
    {
     "data": {
      "text/plain": [
       "Text(0.5, 0, 'Treatment Regimen')"
      ]
     },
     "execution_count": 223,
     "metadata": {},
     "output_type": "execute_result"
    },
    {
     "data": {
      "image/png": "[encoded data removed]",
      "text/plain": [
       "<Figure size 432x288 with 1 Axes>"
      ]
     },
     "metadata": {
      "needs_background": "light"
     },
     "output_type": "display_data"
    }
   ],
   "source": [
    "# GENERATING BAR PLOT OF NUMBER OF DATA POINTS PER REGIMEN USING PANDAS\n",
    "# LEFT MERGING DATA ON MOUSE ID\n",
    "merged_data_complete = pd.merge(mouse_metadata, study_results, how = \"left\", on = \"Mouse ID\")\n",
    "\n",
    "# IDENTIFYING THE DIFFERENT DRUG REGIMENS AND THEIR DATA POINT COUNT\n",
    "drug_regimen_counts = merged_data_complete[\"Drug Regimen\"].value_counts()\n",
    "\n",
    "# PRINTING INFORMATION\n",
    "print(drug_regimen_counts)\n",
    "\n",
    "# PLOTTING BAR GRAPH USING PANDAS\n",
    "drug_regimen_counts.plot(kind = 'bar', color = 'black')\n",
    "plt.title('Number of Data Points per Treatment Regimen')\n",
    "plt.ylabel('Number of Data Points')\n",
    "plt.xlabel('Treatment Regimen')"
   ]
  },
  {
   "cell_type": "code",
   "execution_count": 224,
   "metadata": {},
   "outputs": [
    {
     "data": {
      "text/plain": [
       "Text(0, 0.5, 'Number of Data Points')"
      ]
     },
     "execution_count": 224,
     "metadata": {},
     "output_type": "execute_result"
    },
    {
     "data": {
      "image/png": "[encoded data removed]",
      "text/plain": [
       "<Figure size 432x288 with 1 Axes>"
      ]
     },
     "metadata": {
      "needs_background": "light"
     },
     "output_type": "display_data"
    }
   ],
   "source": [
    "# GET LIST OF TREATMENT REGIMENS\n",
    "drug_regimens = mouse_metadata[\"Drug Regimen\"].unique()\n",
    "\n",
    "# GENERATING BAR PLOT OF NUMBER OF DATA POINTS PER REGIMEN USING MATPLOTLIB\n",
    "plt.bar(x = drug_regimens, height = drug_regimen_counts, color = 'black')\n",
    "plt.xticks(rotation = 90)\n",
    "plt.title('Number of Data Points per Treatment Regimen')\n",
    "plt.xlabel('Treatment Regimen')\n",
    "plt.ylabel('Number of Data Points')"
   ]
  },
  {
   "cell_type": "code",
   "execution_count": 225,
   "metadata": {},
   "outputs": [
    {
     "data": {
      "text/plain": [
       "\"\\nThis next section of code is meant to generate a pie plot using both Pandas's\\nDataFrame.plot() and Matplotlib's pyplot that shows the distribution of \\nfemale or male mice in the study.\\n\""
      ]
     },
     "execution_count": 225,
     "metadata": {},
     "output_type": "execute_result"
    }
   ],
   "source": [
    "# ======================================================================\n",
    "\"\"\"\n",
    "This next section of code is meant to generate a pie plot using both Pandas's\n",
    "DataFrame.plot() and Matplotlib's pyplot that shows the distribution of \n",
    "female or male mice in the study.\n",
    "\"\"\"\n",
    "# ======================================================================"
   ]
  },
  {
   "cell_type": "code",
   "execution_count": 226,
   "metadata": {},
   "outputs": [
    {
     "data": {
      "image/png": "[encoded data removed]",
      "text/plain": [
       "<Figure size 432x288 with 1 Axes>"
      ]
     },
     "metadata": {},
     "output_type": "display_data"
    }
   ],
   "source": [
    "# MAKE A PIE CHART USING PANDAS THAT SHOWS DISTRIBUTION OF MALE VS FEMALE MICE IN STUDY\n",
    "\n",
    "# GROUP BY SEX \n",
    "mouse_sexes = list(mouse_metadata[\"Sex\"].unique())\n",
    "\n",
    "# GET COUNT OF MALE AND FEMALE MICE\n",
    "mouse_sex_count = mouse_metadata[\"Sex\"].value_counts()\n",
    "\n",
    "# CREATE PIE CHART\n",
    "mouse_sex_count.plot(kind = 'pie', \\\n",
    "                     title = 'Male Mice vs Female Mice in Study',\\\n",
    "                     autopct ='%1.1f%%')\n",
    "plt.legend()\n",
    "plt.show()"
   ]
  },
  {
   "cell_type": "code",
   "execution_count": 227,
   "metadata": {},
   "outputs": [
    {
     "data": {
      "image/png": "[encoded data removed]",
      "text/plain": [
       "<Figure size 432x288 with 1 Axes>"
      ]
     },
     "metadata": {},
     "output_type": "display_data"
    }
   ],
   "source": [
    "# MAKE A PIE CHART OF MALE AND FEMALE MICE IN THE STUDY USING MATPLOTLIB\n",
    "colors = [\"red\", \"green\"]\n",
    "\n",
    "explode = (0.05, 0)\n",
    "\n",
    "plt.pie(mouse_sex_count, \\\n",
    "        explode = explode, \\\n",
    "        labels = mouse_sexes, \\\n",
    "        colors = colors, \\\n",
    "       autopct = \"%1.1f%%\", \\\n",
    "       shadow = True)\n",
    "\n",
    "plt.title('Male Mice vs. Female Mice in Study')\n",
    "plt.legend( loc = 'upper right')\n",
    "plt.show()"
   ]
  },
  {
   "cell_type": "code",
   "execution_count": 228,
   "metadata": {},
   "outputs": [
    {
     "data": {
      "text/plain": [
       "'\\nThis next section of code is meant to Calculate the final tumor volume of each mouse across four of the most promising\\ntreatment regimens: Capomulin, Ramicane, Infubinol, and Ceftamin. Calculate the quartiles and IQR and quantitatively \\ndetermine if there are any potential outliers across all four treatment regimens.\\n'"
      ]
     },
     "execution_count": 228,
     "metadata": {},
     "output_type": "execute_result"
    }
   ],
   "source": [
    "# ===================================================================================================================\n",
    "\"\"\"\n",
    "This next section of code is meant to Calculate the final tumor volume of each mouse across four of the most promising\n",
    "treatment regimens: Capomulin, Ramicane, Infubinol, and Ceftamin. Calculate the quartiles and IQR and quantitatively \n",
    "determine if there are any potential outliers across all four treatment regimens.\n",
    "\"\"\"\n",
    "# ===================================================================================================================="
   ]
  },
  {
   "cell_type": "code",
   "execution_count": 229,
   "metadata": {},
   "outputs": [],
   "source": [
    "# CALULATE FINAL TUMOR VOLUME OF CAPOMULIN, RAMICANE, INFUBINOL AND CEFTAMIN TREATED MICE\n",
    "\n",
    "# MERGE THE RESULTS WITH THE METADATA\n",
    "merged_mouse_data = pd.merge(study_results, \\\n",
    "                            mouse_metadata, \\\n",
    "                            how = 'outer')\n",
    "\n",
    "\n",
    "# FINAL STATS OF CAPOMULIN TREATED MICE \n",
    "final_capomulin = merged_mouse_data.loc[(merged_mouse_data[\"Drug Regimen\"] == 'Capomulin') & \\\n",
    "                                        (merged_mouse_data['Timepoint'] == 45)]\n",
    "\n",
    "# GET LIST OF JUST FINAL TUMOR VOLUMES\n",
    "final_capomulin_tumor_volumes = final_capomulin[\"Tumor Volume (mm3)\"]\n",
    "\n",
    "# FINAL STATS OF RAMICanE TREATED MICE \n",
    "final_ramicane = merged_mouse_data.loc[(merged_mouse_data[\"Drug Regimen\"] == 'Ramicane') & \\\n",
    "                                     (merged_mouse_data['Timepoint'] == 45)]\n",
    "\n",
    "# GET LIST OF JUST FINAL TUMOR VOLUMES\n",
    "final_ramicane_tumor_volumes = final_ramicane[\"Tumor Volume (mm3)\"]\n",
    "\n",
    "# FINAL STATS OF CEFTAMIN TREATED MICE \n",
    "final_ceftamin = merged_mouse_data.loc[(merged_mouse_data[\"Drug Regimen\"] == 'Ceftamin') & \\\n",
    "                                       (merged_mouse_data['Timepoint'] == 45)]\n",
    "\n",
    "# GET LIST OF JUST FINAL TUMOR VOLUMES\n",
    "final_ceftamin_tumor_volumes = final_ceftamin[\"Tumor Volume (mm3)\"]\n",
    "\n",
    "# FINAL STATS OF INFUBINOL TREATED MICE \n",
    "final_infubinol = merged_mouse_data.loc[(merged_mouse_data[\"Drug Regimen\"] == 'Infubinol') & \\\n",
    "                                        (merged_mouse_data['Timepoint'] == 45)]\n",
    "\n",
    "# GET LIST OF JUST FINAL TUMOR VOLUMES\n",
    "final_infubinol_tumor_volumes = final_infubinol[\"Tumor Volume (mm3)\"]\n"
   ]
  },
  {
   "cell_type": "code",
   "execution_count": 230,
   "metadata": {},
   "outputs": [
    {
     "name": "stdout",
     "output_type": "stream",
     "text": [
      "There are 0 outliers in the capomulin regimen.\n",
      "There are 0 outliers in the ramicane regimen.\n",
      "There are 0 outliers in the ceftamin regimen.\n",
      "There are 0 outliers in the infubinol regimen.\n"
     ]
    }
   ],
   "source": [
    "# CALCULATE THE QUARTILES AND IQR TO QUANTITATIVELY DETERMING IF THERE ARE POTENTIAL OUTLIERS ACROSS THE FOUR\n",
    "# TREATMENT REGIMES INVESTIGATED ABOVE\n",
    "# 1.5 IQR rule: Q1 - 1.5*IQR and Q3 + 1.5*IQR is range for possible outliers\n",
    "\n",
    "# OBTAINING THE ABOVE VALUES FOR CAPOMULIN\n",
    "capomulin_quartiles = final_capomulin_tumor_volumes.quantile([.25,.5,.75])\n",
    "capomulin_lowerq = capomulin_quartiles[0.25]\n",
    "capomulin_upperq = capomulin_quartiles[0.75]\n",
    "capomulin_iqr = capomulin_upperq - capomulin_lowerq\n",
    "\n",
    "# intialize possible outlier list for capomulin \n",
    "possible_outliers_capomulin = []\n",
    "\n",
    "for value in final_capomulin_tumor_volumes:\n",
    "    if (value > (capomulin_upperq + 1.5 * capomulin_iqr)) or (value < capomulin_lowerq - 1.5 * capomulin_iqr):\n",
    "        possible_outliers_capomulin.append(value)\n",
    "\n",
    "# PRINT STATEMENT TO SHOW POSSIBLE OUTLIERS\n",
    "print(f\"There are {len(possible_outliers_capomulin)} outliers in the capomulin regimen.\")\n",
    "\n",
    "# ==========================================================================================================       \n",
    "\n",
    "# OBTAINING ABOVE VALUES FOR RAMICANE\n",
    "ramicane_quartiles = final_ramicane_tumor_volumes.quantile([.25,.5,.75])\n",
    "ramicane_lowerq = ramicane_quartiles[0.25]\n",
    "ramicane_upperq = ramicane_quartiles[0.75]\n",
    "ramicane_iqr = ramicane_upperq - ramicane_lowerq\n",
    "\n",
    "# intialize possible outlier list for ramicane \n",
    "possible_outliers_ramicane = []\n",
    "\n",
    "for value in final_ramicane_tumor_volumes:\n",
    "    if (value > (ramicane_upperq + 1.5 * ramicane_iqr)) or (value < ramicane_lowerq - 1.5 * ramicane_iqr):\n",
    "        possible_outliers_ramicane.append(value)\n",
    "\n",
    "# PRINT STATEMENT TO SHOW NUMBER OF POSSIBLE OUTLIERS\n",
    "print(f\"There are {len(possible_outliers_ramicane)} outliers in the ramicane regimen.\")\n",
    "\n",
    "# ============================================================================================================\n",
    "\n",
    "# OBTAINING ABOVE VALUES FOR CEFTAMIN\n",
    "ceftamin_quartiles = final_ceftamin_tumor_volumes.quantile([.25,.5,.75])\n",
    "ceftamin_lowerq = ceftamin_quartiles[0.25]\n",
    "ceftamin_upperq = ceftamin_quartiles[0.75]\n",
    "ceftamin_iqr = ceftamin_upperq - ceftamin_lowerq\n",
    "\n",
    "# intialize possible outlier list for ceftamin \n",
    "possible_outliers_ceftamin = []\n",
    "\n",
    "for value in final_ceftamin_tumor_volumes:\n",
    "    if (value > (ceftamin_upperq + 1.5 * ceftamin_iqr)) or (value < ceftamin_lowerq - 1.5 * ceftamin_iqr):\n",
    "        possible_outliers_ceftamin.append(value)\n",
    "\n",
    "# PRINT STATEMENT TO SHOW NUMBER OF POSSIBLE OUTLIERS\n",
    "print(f\"There are {len(possible_outliers_ceftamin)} outliers in the ceftamin regimen.\")\n",
    "\n",
    "# =============================================================================================================\n",
    "\n",
    "# OBTAINING ABOVE VALUES FOR INFUBINOL\n",
    "infubinol_quartiles = final_infubinol_tumor_volumes.quantile([.25,.5,.75])\n",
    "infubinol_lowerq = infubinol_quartiles[0.25]\n",
    "infubinol_upperq = infubinol_quartiles[0.75]\n",
    "infubinol_iqr = infubinol_upperq - infubinol_lowerq\n",
    "\n",
    "# intialize possible outlier list for infubinol \n",
    "possible_outliers_infubinol = []\n",
    "\n",
    "for value in final_infubinol_tumor_volumes:\n",
    "    if (value > (infubinol_upperq + 1.5 * infubinol_iqr)) or (value < infubinol_lowerq - 1.5 * infubinol_iqr):\n",
    "        possible_outliers_infubinol.append(value)\n",
    "\n",
    "# PRINT STATEMENT TO SHOW NUMBER OF POSSIBLE OUTLIERS\n",
    "print(f\"There are {len(possible_outliers_infubinol)} outliers in the infubinol regimen.\")\n",
    "\n"
   ]
  },
  {
   "cell_type": "code",
   "execution_count": 231,
   "metadata": {},
   "outputs": [
    {
     "data": {
      "image/png": "[encoded data removed]",
      "text/plain": [
       "<Figure size 432x288 with 1 Axes>"
      ]
     },
     "metadata": {
      "needs_background": "light"
     },
     "output_type": "display_data"
    }
   ],
   "source": [
    "# pyplot.boxplot()\n",
    "# CREATING FIGURE WILL ALL FOUR BOXPLOTS ON ONE AXES\n",
    "data = [final_capomulin_tumor_volumes, \\\n",
    "        final_ramicane_tumor_volumes, \\\n",
    "        final_ceftamin_tumor_volumes,\\\n",
    "        final_infubinol_tumor_volumes]\n",
    "\n",
    "labels = ['Capomulin (1)', 'Ramicane (2)', 'Ceftamin (3)', 'Infubinol (4)']\n",
    "\n",
    "fig, ax = plt.subplots()\n",
    "ax.boxplot(data)\n",
    "plt.title('Box and Whisker Plot for Top 4 Treatment Regimens')\n",
    "plt.xlabel('Drug Regimen')\n",
    "plt.ylabel('Final Tumor Volume ($mm^3$)')\n",
    "plt.legend(labels)\n",
    "\n",
    "plt.show()\n"
   ]
  },
  {
   "cell_type": "code",
   "execution_count": 232,
   "metadata": {},
   "outputs": [
    {
     "data": {
      "text/plain": [
       "'\\nThis next section of code is meant to generate a line plot of time point versus tumor volume for a single mouse \\ntreated with Capomulin.\\n'"
      ]
     },
     "execution_count": 232,
     "metadata": {},
     "output_type": "execute_result"
    }
   ],
   "source": [
    "# ================================================================================================================\n",
    "\"\"\"\n",
    "This next section of code is meant to generate a line plot of time point versus tumor volume for a single mouse \n",
    "treated with Capomulin.\n",
    "\"\"\"\n",
    "# ================================================================================================================"
   ]
  },
  {
   "cell_type": "code",
   "execution_count": 233,
   "metadata": {},
   "outputs": [
    {
     "name": "stdout",
     "output_type": "stream",
     "text": [
      "There were 25 mice treated with Capomulin.\n",
      "We are obtaining a line plot of time vs tumor volume for mouse: u364.\n"
     ]
    },
    {
     "data": {
      "text/plain": [
       "Text(0, 0.5, 'Tumor Volume ($mm^3$)')"
      ]
     },
     "execution_count": 233,
     "metadata": {},
     "output_type": "execute_result"
    },
    {
     "data": {
      "image/png": "[encoded data removed]",
      "text/plain": [
       "<Figure size 432x288 with 1 Axes>"
      ]
     },
     "metadata": {
      "needs_background": "light"
     },
     "output_type": "display_data"
    }
   ],
   "source": [
    "# GET MOUSE ID LIST OF MICE TREATED WITH CAPOMULIN\n",
    "capomulin_mice = list(mouse_metadata.loc[mouse_metadata[\"Drug Regimen\"] == 'Capomulin'][\"Mouse ID\"])\n",
    "print(f\"There were {len(capomulin_mice)} mice treated with Capomulin.\")\n",
    "\n",
    "# CHOOSING A MOUSE ID\n",
    "print(f\"We are obtaining a line plot of time vs tumor volume for mouse: {capomulin_mice[4]}.\") \n",
    "\n",
    "# GET TIME DATA (X AXIS)\n",
    "time_data = list(study_results[\"Timepoint\"].unique())\n",
    "\n",
    "# GET TUMOR VOLUME OF TIME FOR SELECTED MOUSE \n",
    "selected_capomulin_mouse = study_results.loc[study_results[\"Mouse ID\"] == capomulin_mice[4], :]\n",
    "selected_capomulin_mouse_cleaned = selected_capomulin_mouse[[\"Timepoint\", \"Tumor Volume (mm3)\"]]\n",
    "\n",
    "# SHOW PLOT\n",
    "selected_capomulin_mouse_cleaned.plot(x = 'Timepoint', y = 'Tumor Volume (mm3)')\n",
    "plt.title(f\"Tumor Volume Over Time of Mouse {capomulin_mice[4]}\")\n",
    "plt.ylabel('Tumor Volume ($mm^3$)')"
   ]
  },
  {
   "cell_type": "code",
   "execution_count": 234,
   "metadata": {},
   "outputs": [
    {
     "data": {
      "text/plain": [
       "'\\nThis next section of code is meant to generate a scatter plot of mouse weight versus average tumor volume for the \\nCapomulin treatment regimen.\\n'"
      ]
     },
     "execution_count": 234,
     "metadata": {},
     "output_type": "execute_result"
    }
   ],
   "source": [
    "# ================================================================================================================\n",
    "\"\"\"\n",
    "This next section of code is meant to generate a scatter plot of mouse weight versus average tumor volume for the \n",
    "Capomulin treatment regimen.\n",
    "\"\"\"\n",
    "# ================================================================================================================"
   ]
  },
  {
   "cell_type": "code",
   "execution_count": 235,
   "metadata": {},
   "outputs": [
    {
     "data": {
      "text/plain": [
       "Text(0, 0.5, 'Average Tumor Volume ($mm^3$)')"
      ]
     },
     "execution_count": 235,
     "metadata": {},
     "output_type": "execute_result"
    },
    {
     "data": {
      "image/png": "[encoded data removed]",
      "text/plain": [
       "<Figure size 432x288 with 1 Axes>"
      ]
     },
     "metadata": {
      "needs_background": "light"
     },
     "output_type": "display_data"
    }
   ],
   "source": [
    "# GET MICE WEIGHTS FOR CAPOMULIN REGIMEN\n",
    "capomulin_mice_df = mouse_metadata.loc[mouse_metadata[\"Drug Regimen\"] == 'Capomulin',:]\n",
    "\n",
    "# MERGE STUDY RESULTS WITH CAPOMULIN MICE\n",
    "capomulin_mice_merged = pd.merge(study_results, \\\n",
    "                            capomulin_mice_df, \\\n",
    "                            on = 'Mouse ID')\n",
    "\n",
    "# GET MEAN TUMOR VOLUME AND WEIGHT FOR EACH CAPOMULIN MOUSE\n",
    "capomulin_mice_merged_mean = capomulin_mice_merged.groupby(\"Mouse ID\").mean()\n",
    "mean_tumor_volume_capomulin = capomulin_mice_merged_mean[\"Tumor Volume (mm3)\"]\n",
    "weight_capomulin = capomulin_mice_merged_mean[\"Weight (g)\"]\n",
    "\n",
    "# GENERATE SCATTER PLOT WITH LABELS\n",
    "plt.scatter(weight_capomulin, mean_tumor_volume_capomulin, color = 'black')\n",
    "plt.title('Scatter Plot of Mouse Weight vs. Average Tumor Volume of Capomulin Treated Mice')\n",
    "plt.xlabel('Mouse Weight (g)')\n",
    "plt.ylabel('Average Tumor Volume ($mm^3$)')"
   ]
  },
  {
   "cell_type": "code",
   "execution_count": 236,
   "metadata": {},
   "outputs": [
    {
     "data": {
      "text/plain": [
       "'\\nThis next section of code is meant to calculate the correlation coefficient and linear regression model between \\nmouse weight and average tumor volume for the Capomulin treatment then plot the linear regression model on top of the \\nprevious scatter plot. \\n'"
      ]
     },
     "execution_count": 236,
     "metadata": {},
     "output_type": "execute_result"
    }
   ],
   "source": [
    "# ================================================================================================================\n",
    "\"\"\"\n",
    "This next section of code is meant to calculate the correlation coefficient and linear regression model between \n",
    "mouse weight and average tumor volume for the Capomulin treatment then plot the linear regression model on top of the \n",
    "previous scatter plot. \n",
    "\"\"\"\n",
    "# ================================================================================================================"
   ]
  },
  {
   "cell_type": "code",
   "execution_count": 237,
   "metadata": {},
   "outputs": [
    {
     "name": "stdout",
     "output_type": "stream",
     "text": [
      "The correlation coefficient between mouse weight and mean tumor volumeof mice treated with capomulin is: 0.842\n"
     ]
    },
    {
     "data": {
      "image/png": "[encoded data removed]",
      "text/plain": [
       "<Figure size 432x288 with 1 Axes>"
      ]
     },
     "metadata": {
      "needs_background": "light"
     },
     "output_type": "display_data"
    }
   ],
   "source": [
    "# CALCULATING CORRELATION COEFFICIENT BETWEEN MOUSE WEIGHT AND MEAN TUMOR VOLUME OF CAPOMULIN MICE\n",
    "correlation_coefficient = st.pearsonr(x = weight_capomulin, y = mean_tumor_volume_capomulin)\n",
    "\n",
    "# PRINTING INFO ON PEARSON R\n",
    "print(f\"The correlation coefficient between mouse weight and mean tumor volume\\\n",
    "of mice treated with capomulin is: {round(correlation_coefficient[0], 3)}\")\n",
    "\n",
    "# CALCULATING LINEAR REGRESSION BETWEEN MOUSE WEIGHT AND MEAN TUMOR VOLUME OF CAPOMULIN MICE\n",
    "x_values = weight_capomulin\n",
    "y_values = mean_tumor_volume_capomulin\n",
    "(slope, intercept, rvalue, pvalue, stderr) = st.linregress(x_values, y_values)\n",
    "regress_values = x_values * slope + intercept\n",
    "line_eq = \"y = \" + str(round(slope,2)) + \"x + \" + str(round(intercept,2))\n",
    "\n",
    "\n",
    "# GENERATE SCATTER PLOT WITH LABELS INCLUDING LINEAR REGRESSION\n",
    "plt.scatter(weight_capomulin, mean_tumor_volume_capomulin, color = 'black')\n",
    "plt.title('Scatter Plot of Mouse Weight vs. Average Tumor Volume of Capomulin Treated Mice \\\n",
    "with Linear Regression')\n",
    "plt.xlabel('Mouse Weight (g)')\n",
    "plt.ylabel('Average Tumor Volume ($mm^3$)')\n",
    "\n",
    "# LINEAR REGRESSION PART\n",
    "plt.plot(x_values,regress_values,\"r-\")\n",
    "plt.annotate(line_eq, (20, 37), fontsize=12, color=\"red\")\n",
    "plt.show()"
   ]
  },
  {
   "cell_type": "code",
   "execution_count": null,
   "metadata": {},
   "outputs": [],
   "source": []
  }
 ],
 "metadata": {
  "kernelspec": {
   "display_name": "Python 3",
   "language": "python",
   "name": "python3"
  },
  "language_info": {
   "codemirror_mode": {
    "name": "ipython",
    "version": 3
   },
   "file_extension": ".py",
   "mimetype": "text/x-python",
   "name": "python",
   "nbconvert_exporter": "python",
   "pygments_lexer": "ipython3",
   "version": "3.6.9"
  }
 },
 "nbformat": 4,
 "nbformat_minor": 2
}
